{
  "nbformat": 4,
  "nbformat_minor": 0,
  "metadata": {
    "colab": {
      "provenance": [],
      "authorship_tag": "ABX9TyOyzVa6nJqk9+EpH/Vbo6aM",
      "include_colab_link": true
    },
    "kernelspec": {
      "name": "python3",
      "display_name": "Python 3"
    },
    "language_info": {
      "name": "python"
    }
  },
  "cells": [
    {
      "cell_type": "markdown",
      "metadata": {
        "id": "view-in-github",
        "colab_type": "text"
      },
      "source": [
        "<a href=\"https://colab.research.google.com/github/siddhijadhav12/project1/blob/main/Hand_Written_Digit_Classification.ipynb\" target=\"_parent\"><img src=\"https://colab.research.google.com/assets/colab-badge.svg\" alt=\"Open In Colab\"/></a>"
      ]
    },
    {
      "cell_type": "code",
      "execution_count": 5,
      "metadata": {
        "id": "6PEw2Yxs4F3a"
      },
      "outputs": [],
      "source": [
        "# HAND WRITTEN DIGIT PREDICTION-CLASSIFICATION ANALYSISI"
      ]
    },
    {
      "cell_type": "code",
      "source": [
        "# The digits dataset consists of 8*8 pixel images of digits.The images attribute of the dataset stores 8*8 arrays of grayscale values for each image.We will use these arrays to visualize the first 4 images .The target attribute of the dataset stores the digit eacg image represents"
      ],
      "metadata": {
        "id": "8_33jihp-AjY"
      },
      "execution_count": null,
      "outputs": []
    },
    {
      "cell_type": "code",
      "source": [
        "# import library"
      ],
      "metadata": {
        "id": "v5qpwI6m-lKI"
      },
      "execution_count": null,
      "outputs": []
    },
    {
      "cell_type": "code",
      "source": [
        "import pandas as pandas pd"
      ],
      "metadata": {
        "id": "8Nf8aGuR4jme"
      },
      "execution_count": 1,
      "outputs": []
    },
    {
      "cell_type": "code",
      "source": [
        "import numpy as np"
      ],
      "metadata": {
        "id": "wkGIBYAb5AoR"
      },
      "execution_count": 2,
      "outputs": []
    },
    {
      "cell_type": "code",
      "source": [
        "import matplotlib.pyplot as plt"
      ],
      "metadata": {
        "id": "zPomvgBJ5FvG"
      },
      "execution_count": 4,
      "outputs": []
    },
    {
      "cell_type": "code",
      "source": [
        "# import data"
      ],
      "metadata": {
        "id": "gh4cAtvc-q2e"
      },
      "execution_count": null,
      "outputs": []
    },
    {
      "cell_type": "code",
      "source": [
        "from sklearn.datasets import load_digits"
      ],
      "metadata": {
        "id": "gjot4mGm5dnB"
      },
      "execution_count": 6,
      "outputs": []
    },
    {
      "cell_type": "code",
      "source": [
        "df = load_digits()"
      ],
      "metadata": {
        "id": "WGE4QOhz5ns6"
      },
      "execution_count": 7,
      "outputs": []
    },
    {
      "cell_type": "code",
      "source": [
        "_, axes =plt.subplots(nrows=1, ncols=4, figsize=(10,3))\n",
        "for ax,image,label in zip(axes,df.images,df.target):\n",
        "  ax.set_axis_off()\n",
        "  ax.imshow(image, cmap=plt.cm.gray_r, interpolation=\"nearest\")\n",
        "  ax.set_title(\"Training: %i\" % label)"
      ],
      "metadata": {
        "colab": {
          "base_uri": "https://localhost:8080/",
          "height": 227
        },
        "id": "nZ4mj-4E5ssp",
        "outputId": "cbb49f06-ed59-4cdb-d557-0a681d49555f"
      },
      "execution_count": 35,
      "outputs": [
        {
          "output_type": "display_data",
          "data": {
            "text/plain": [
              "<Figure size 1000x300 with 4 Axes>"
            ],
            "image/png": "[encoded data removed]"
          },
          "metadata": {}
        }
      ]
    },
    {
      "cell_type": "code",
      "source": [
        "df.images.shape\n"
      ],
      "metadata": {
        "colab": {
          "base_uri": "https://localhost:8080/"
        },
        "id": "PtUREOgl6Ymx",
        "outputId": "aae98e62-1374-4dfe-918b-cd748d4060d2"
      },
      "execution_count": 11,
      "outputs": [
        {
          "output_type": "execute_result",
          "data": {
            "text/plain": [
              "(1797, 8, 8)"
            ]
          },
          "metadata": {},
          "execution_count": 11
        }
      ]
    },
    {
      "cell_type": "code",
      "source": [
        "df.images[0]"
      ],
      "metadata": {
        "colab": {
          "base_uri": "https://localhost:8080/"
        },
        "id": "rw4cJ3T_6h_7",
        "outputId": "50b548c2-b224-4dd0-85bc-13e52f5d08b5"
      },
      "execution_count": 10,
      "outputs": [
        {
          "output_type": "execute_result",
          "data": {
            "text/plain": [
              "array([[ 0.,  0.,  5., 13.,  9.,  1.,  0.,  0.],\n",
              "       [ 0.,  0., 13., 15., 10., 15.,  5.,  0.],\n",
              "       [ 0.,  3., 15.,  2.,  0., 11.,  8.,  0.],\n",
              "       [ 0.,  4., 12.,  0.,  0.,  8.,  8.,  0.],\n",
              "       [ 0.,  5.,  8.,  0.,  0.,  9.,  8.,  0.],\n",
              "       [ 0.,  4., 11.,  0.,  1., 12.,  7.,  0.],\n",
              "       [ 0.,  2., 14.,  5., 10., 12.,  0.,  0.],\n",
              "       [ 0.,  0.,  6., 13., 10.,  0.,  0.,  0.]])"
            ]
          },
          "metadata": {},
          "execution_count": 10
        }
      ]
    },
    {
      "cell_type": "code",
      "source": [
        "df.images[0].shape"
      ],
      "metadata": {
        "colab": {
          "base_uri": "https://localhost:8080/"
        },
        "id": "NO9691Pt6sdy",
        "outputId": "5eeb33f8-e491-4d86-fa09-9b0b9c77bd4a"
      },
      "execution_count": 12,
      "outputs": [
        {
          "output_type": "execute_result",
          "data": {
            "text/plain": [
              "(8, 8)"
            ]
          },
          "metadata": {},
          "execution_count": 12
        }
      ]
    },
    {
      "cell_type": "code",
      "source": [
        "len(df.images)"
      ],
      "metadata": {
        "colab": {
          "base_uri": "https://localhost:8080/"
        },
        "id": "AgwsZVsr6xh-",
        "outputId": "f057a9c6-9e2e-467d-9866-9c6c451f8800"
      },
      "execution_count": 14,
      "outputs": [
        {
          "output_type": "execute_result",
          "data": {
            "text/plain": [
              "1797"
            ]
          },
          "metadata": {},
          "execution_count": 14
        }
      ]
    },
    {
      "cell_type": "code",
      "source": [
        "n_samples = len(df.images)\n",
        "data = df.images.reshape((n_samples, -1))"
      ],
      "metadata": {
        "id": "F_rQXeKn6792"
      },
      "execution_count": 15,
      "outputs": []
    },
    {
      "cell_type": "code",
      "source": [
        "data[0]"
      ],
      "metadata": {
        "colab": {
          "base_uri": "https://localhost:8080/"
        },
        "id": "mjhVHTU_7LmM",
        "outputId": "3aaddc56-f3c0-478d-d7ba-224a0eca6adf"
      },
      "execution_count": 16,
      "outputs": [
        {
          "output_type": "execute_result",
          "data": {
            "text/plain": [
              "array([ 0.,  0.,  5., 13.,  9.,  1.,  0.,  0.,  0.,  0., 13., 15., 10.,\n",
              "       15.,  5.,  0.,  0.,  3., 15.,  2.,  0., 11.,  8.,  0.,  0.,  4.,\n",
              "       12.,  0.,  0.,  8.,  8.,  0.,  0.,  5.,  8.,  0.,  0.,  9.,  8.,\n",
              "        0.,  0.,  4., 11.,  0.,  1., 12.,  7.,  0.,  0.,  2., 14.,  5.,\n",
              "       10., 12.,  0.,  0.,  0.,  0.,  6., 13., 10.,  0.,  0.,  0.])"
            ]
          },
          "metadata": {},
          "execution_count": 16
        }
      ]
    },
    {
      "cell_type": "code",
      "source": [
        "data.shape"
      ],
      "metadata": {
        "colab": {
          "base_uri": "https://localhost:8080/"
        },
        "id": "SksXKgXv7PCt",
        "outputId": "91257388-ad6f-4456-beaf-1063bd294530"
      },
      "execution_count": 17,
      "outputs": [
        {
          "output_type": "execute_result",
          "data": {
            "text/plain": [
              "(1797, 64)"
            ]
          },
          "metadata": {},
          "execution_count": 17
        }
      ]
    },
    {
      "cell_type": "code",
      "source": [
        "# Scaling image data"
      ],
      "metadata": {
        "id": "Ztpesqxh-zbp"
      },
      "execution_count": null,
      "outputs": []
    },
    {
      "cell_type": "code",
      "source": [
        "data.min()"
      ],
      "metadata": {
        "colab": {
          "base_uri": "https://localhost:8080/"
        },
        "id": "T5-2_xwh7XFp",
        "outputId": "568a309a-85cf-4e21-cfd8-6d212aa0d494"
      },
      "execution_count": 18,
      "outputs": [
        {
          "output_type": "execute_result",
          "data": {
            "text/plain": [
              "0.0"
            ]
          },
          "metadata": {},
          "execution_count": 18
        }
      ]
    },
    {
      "cell_type": "code",
      "source": [
        "data.max()"
      ],
      "metadata": {
        "colab": {
          "base_uri": "https://localhost:8080/"
        },
        "id": "B1DbLXKe7abF",
        "outputId": "5db0a467-8d3e-43c3-9da2-7a054d0d8836"
      },
      "execution_count": 19,
      "outputs": [
        {
          "output_type": "execute_result",
          "data": {
            "text/plain": [
              "16.0"
            ]
          },
          "metadata": {},
          "execution_count": 19
        }
      ]
    },
    {
      "cell_type": "code",
      "source": [
        "data = data/16"
      ],
      "metadata": {
        "id": "p29_Q1VK7dKU"
      },
      "execution_count": 20,
      "outputs": []
    },
    {
      "cell_type": "code",
      "source": [
        "data.min()"
      ],
      "metadata": {
        "colab": {
          "base_uri": "https://localhost:8080/"
        },
        "id": "e-1RsSzg7jJq",
        "outputId": "5d803b17-9e51-48e6-bf8d-72f7de9745ef"
      },
      "execution_count": 21,
      "outputs": [
        {
          "output_type": "execute_result",
          "data": {
            "text/plain": [
              "0.0"
            ]
          },
          "metadata": {},
          "execution_count": 21
        }
      ]
    },
    {
      "cell_type": "code",
      "source": [
        "data.max()"
      ],
      "metadata": {
        "colab": {
          "base_uri": "https://localhost:8080/"
        },
        "id": "IoZNi1Ow7nA2",
        "outputId": "d7f545c8-fff3-4eef-a960-c4c9a2857145"
      },
      "execution_count": 22,
      "outputs": [
        {
          "output_type": "execute_result",
          "data": {
            "text/plain": [
              "1.0"
            ]
          },
          "metadata": {},
          "execution_count": 22
        }
      ]
    },
    {
      "cell_type": "code",
      "source": [
        "data[0]"
      ],
      "metadata": {
        "colab": {
          "base_uri": "https://localhost:8080/"
        },
        "id": "Xa499nGp7rVp",
        "outputId": "91998c58-3d9e-4eda-9cbc-56c908364a0b"
      },
      "execution_count": 23,
      "outputs": [
        {
          "output_type": "execute_result",
          "data": {
            "text/plain": [
              "array([0.    , 0.    , 0.3125, 0.8125, 0.5625, 0.0625, 0.    , 0.    ,\n",
              "       0.    , 0.    , 0.8125, 0.9375, 0.625 , 0.9375, 0.3125, 0.    ,\n",
              "       0.    , 0.1875, 0.9375, 0.125 , 0.    , 0.6875, 0.5   , 0.    ,\n",
              "       0.    , 0.25  , 0.75  , 0.    , 0.    , 0.5   , 0.5   , 0.    ,\n",
              "       0.    , 0.3125, 0.5   , 0.    , 0.    , 0.5625, 0.5   , 0.    ,\n",
              "       0.    , 0.25  , 0.6875, 0.    , 0.0625, 0.75  , 0.4375, 0.    ,\n",
              "       0.    , 0.125 , 0.875 , 0.3125, 0.625 , 0.75  , 0.    , 0.    ,\n",
              "       0.    , 0.    , 0.375 , 0.8125, 0.625 , 0.    , 0.    , 0.    ])"
            ]
          },
          "metadata": {},
          "execution_count": 23
        }
      ]
    },
    {
      "cell_type": "code",
      "source": [
        "# Train Test Split Data"
      ],
      "metadata": {
        "id": "2RJLPUqM-6tI"
      },
      "execution_count": null,
      "outputs": []
    },
    {
      "cell_type": "code",
      "source": [
        "from sklearn.model_selection import train_test_split"
      ],
      "metadata": {
        "id": "TqilmJJd7u1F"
      },
      "execution_count": 24,
      "outputs": []
    },
    {
      "cell_type": "code",
      "source": [
        "X_train, X_test, Y_train, Y_test = train_test_split(data, df.target, test_size=0.3)"
      ],
      "metadata": {
        "id": "3IcT3EYe74hy"
      },
      "execution_count": 25,
      "outputs": []
    },
    {
      "cell_type": "code",
      "source": [
        "X_train.shape, X_test.shape, Y_train.shape, Y_test.shape"
      ],
      "metadata": {
        "colab": {
          "base_uri": "https://localhost:8080/"
        },
        "id": "kun1i9E98Lew",
        "outputId": "78ba0ca5-38c0-41c9-ec2b-9770d9c694c8"
      },
      "execution_count": 26,
      "outputs": [
        {
          "output_type": "execute_result",
          "data": {
            "text/plain": [
              "((1257, 64), (540, 64), (1257,), (540,))"
            ]
          },
          "metadata": {},
          "execution_count": 26
        }
      ]
    },
    {
      "cell_type": "code",
      "source": [
        "# Random Forest Model"
      ],
      "metadata": {
        "id": "U7HsQs5K_BIG"
      },
      "execution_count": null,
      "outputs": []
    },
    {
      "cell_type": "code",
      "source": [
        "from sklearn.ensemble import RandomForestClassifier"
      ],
      "metadata": {
        "id": "fTwBAcaN8ZGq"
      },
      "execution_count": 27,
      "outputs": []
    },
    {
      "cell_type": "code",
      "source": [
        "rf = RandomForestClassifier()"
      ],
      "metadata": {
        "id": "5i7vK1gE8i-l"
      },
      "execution_count": 28,
      "outputs": []
    },
    {
      "cell_type": "code",
      "source": [
        "rf.fit(X_train, Y_train)"
      ],
      "metadata": {
        "colab": {
          "base_uri": "https://localhost:8080/",
          "height": 74
        },
        "id": "daLEl6fY8o9-",
        "outputId": "107fe624-1f0e-4dc4-dc5d-8cd553eb2ba8"
      },
      "execution_count": 29,
      "outputs": [
        {
          "output_type": "execute_result",
          "data": {
            "text/plain": [
              "RandomForestClassifier()"
            ],
            "text/html": [
              "<style>#sk-container-id-1 {color: black;background-color: white;}#sk-container-id-1 pre{padding: 0;}#sk-container-id-1 div.sk-toggleable {background-color: white;}#sk-container-id-1 label.sk-toggleable__label {cursor: pointer;display: block;width: 100%;margin-bottom: 0;padding: 0.3em;box-sizing: border-box;text-align: center;}#sk-container-id-1 label.sk-toggleable__label-arrow:before {content: \"▸\";float: left;margin-right: 0.25em;color: #696969;}#sk-container-id-1 label.sk-toggleable__label-arrow:hover:before {color: black;}#sk-container-id-1 div.sk-estimator:hover label.sk-toggleable__label-arrow:before {color: black;}#sk-container-id-1 div.sk-toggleable__content {max-height: 0;max-width: 0;overflow: hidden;text-align: left;background-color: #f0f8ff;}#sk-container-id-1 div.sk-toggleable__content pre {margin: 0.2em;color: black;border-radius: 0.25em;background-color: #f0f8ff;}#sk-container-id-1 input.sk-toggleable__control:checked~div.sk-toggleable__content {max-height: 200px;max-width: 100%;overflow: auto;}#sk-container-id-1 input.sk-toggleable__control:checked~label.sk-toggleable__label-arrow:before {content: \"▾\";}#sk-container-id-1 div.sk-estimator input.sk-toggleable__control:checked~label.sk-toggleable__label {background-color: #d4ebff;}#sk-container-id-1 div.sk-label input.sk-toggleable__control:checked~label.sk-toggleable__label {background-color: #d4ebff;}#sk-container-id-1 input.sk-hidden--visually {border: 0;clip: rect(1px 1px 1px 1px);clip: rect(1px, 1px, 1px, 1px);height: 1px;margin: -1px;overflow: hidden;padding: 0;position: absolute;width: 1px;}#sk-container-id-1 div.sk-estimator {font-family: monospace;background-color: #f0f8ff;border: 1px dotted black;border-radius: 0.25em;box-sizing: border-box;margin-bottom: 0.5em;}#sk-container-id-1 div.sk-estimator:hover {background-color: #d4ebff;}#sk-container-id-1 div.sk-parallel-item::after {content: \"\";width: 100%;border-bottom: 1px solid gray;flex-grow: 1;}#sk-container-id-1 div.sk-label:hover label.sk-toggleable__label {background-color: #d4ebff;}#sk-container-id-1 div.sk-serial::before {content: \"\";position: absolute;border-left: 1px solid gray;box-sizing: border-box;top: 0;bottom: 0;left: 50%;z-index: 0;}#sk-container-id-1 div.sk-serial {display: flex;flex-direction: column;align-items: center;background-color: white;padding-right: 0.2em;padding-left: 0.2em;position: relative;}#sk-container-id-1 div.sk-item {position: relative;z-index: 1;}#sk-container-id-1 div.sk-parallel {display: flex;align-items: stretch;justify-content: center;background-color: white;position: relative;}#sk-container-id-1 div.sk-item::before, #sk-container-id-1 div.sk-parallel-item::before {content: \"\";position: absolute;border-left: 1px solid gray;box-sizing: border-box;top: 0;bottom: 0;left: 50%;z-index: -1;}#sk-container-id-1 div.sk-parallel-item {display: flex;flex-direction: column;z-index: 1;position: relative;background-color: white;}#sk-container-id-1 div.sk-parallel-item:first-child::after {align-self: flex-end;width: 50%;}#sk-container-id-1 div.sk-parallel-item:last-child::after {align-self: flex-start;width: 50%;}#sk-container-id-1 div.sk-parallel-item:only-child::after {width: 0;}#sk-container-id-1 div.sk-dashed-wrapped {border: 1px dashed gray;margin: 0 0.4em 0.5em 0.4em;box-sizing: border-box;padding-bottom: 0.4em;background-color: white;}#sk-container-id-1 div.sk-label label {font-family: monospace;font-weight: bold;display: inline-block;line-height: 1.2em;}#sk-container-id-1 div.sk-label-container {text-align: center;}#sk-container-id-1 div.sk-container {/* jupyter's `normalize.less` sets `[hidden] { display: none; }` but bootstrap.min.css set `[hidden] { display: none !important; }` so we also need the `!important` here to be able to override the default hidden behavior on the sphinx rendered scikit-learn.org. See: https://github.com/scikit-learn/scikit-learn/issues/21755 */display: inline-block !important;position: relative;}#sk-container-id-1 div.sk-text-repr-fallback {display: none;}</style><div id=\"sk-container-id-1\" class=\"sk-top-container\"><div class=\"sk-text-repr-fallback\"><pre>RandomForestClassifier()</pre><b>In a Jupyter environment, please rerun this cell to show the HTML representation or trust the notebook. <br />On GitHub, the HTML representation is unable to render, please try loading this page with nbviewer.org.</b></div><div class=\"sk-container\" hidden><div class=\"sk-item\"><div class=\"sk-estimator sk-toggleable\"><input class=\"sk-toggleable__control sk-hidden--visually\" id=\"sk-estimator-id-1\" type=\"checkbox\" checked><label for=\"sk-estimator-id-1\" class=\"sk-toggleable__label sk-toggleable__label-arrow\">RandomForestClassifier</label><div class=\"sk-toggleable__content\"><pre>RandomForestClassifier()</pre></div></div></div></div></div>"
            ]
          },
          "metadata": {},
          "execution_count": 29
        }
      ]
    },
    {
      "cell_type": "code",
      "source": [
        "# Predict Test Data"
      ],
      "metadata": {
        "id": "ieLSlVLW_Gcd"
      },
      "execution_count": null,
      "outputs": []
    },
    {
      "cell_type": "code",
      "source": [
        "Y_pred = rf.predict(X_test)"
      ],
      "metadata": {
        "id": "9vlyQMJS8yQL"
      },
      "execution_count": 30,
      "outputs": []
    },
    {
      "cell_type": "code",
      "source": [
        "Y_pred"
      ],
      "metadata": {
        "colab": {
          "base_uri": "https://localhost:8080/"
        },
        "id": "ogVpgTkH85Ls",
        "outputId": "d8677daa-2cec-4dbf-886e-96f461b38093"
      },
      "execution_count": 31,
      "outputs": [
        {
          "output_type": "execute_result",
          "data": {
            "text/plain": [
              "array([2, 4, 1, 8, 2, 3, 2, 9, 8, 5, 3, 5, 5, 9, 1, 4, 2, 6, 2, 5, 2, 6,\n",
              "       1, 2, 6, 8, 5, 7, 4, 3, 9, 4, 7, 2, 1, 1, 4, 2, 4, 2, 8, 7, 7, 5,\n",
              "       0, 8, 1, 0, 4, 3, 6, 8, 4, 9, 8, 4, 4, 2, 6, 1, 0, 6, 7, 0, 0, 7,\n",
              "       2, 9, 6, 0, 4, 0, 3, 2, 4, 4, 2, 6, 2, 5, 9, 1, 4, 6, 8, 9, 6, 1,\n",
              "       4, 4, 5, 9, 4, 1, 6, 2, 9, 7, 1, 1, 6, 2, 7, 6, 8, 6, 2, 1, 0, 9,\n",
              "       0, 5, 1, 4, 7, 8, 1, 9, 0, 7, 7, 1, 1, 9, 0, 2, 6, 7, 2, 6, 0, 7,\n",
              "       0, 5, 0, 0, 1, 7, 7, 9, 8, 1, 0, 7, 5, 3, 6, 8, 7, 7, 4, 3, 4, 4,\n",
              "       7, 1, 6, 0, 1, 8, 8, 1, 9, 4, 8, 3, 8, 7, 0, 0, 4, 9, 0, 6, 9, 0,\n",
              "       0, 9, 1, 0, 5, 3, 5, 7, 9, 6, 9, 9, 8, 3, 8, 3, 7, 6, 7, 7, 1, 8,\n",
              "       9, 7, 6, 0, 4, 2, 8, 5, 0, 3, 3, 8, 4, 4, 6, 3, 7, 1, 5, 9, 3, 8,\n",
              "       8, 5, 7, 0, 4, 0, 5, 7, 6, 2, 2, 2, 8, 3, 9, 0, 8, 0, 8, 3, 5, 1,\n",
              "       4, 6, 9, 7, 3, 7, 3, 2, 6, 6, 6, 9, 8, 5, 3, 6, 6, 4, 0, 0, 6, 1,\n",
              "       2, 6, 5, 6, 2, 3, 4, 1, 9, 4, 2, 2, 3, 7, 6, 9, 6, 6, 7, 4, 3, 2,\n",
              "       6, 7, 8, 2, 7, 1, 6, 4, 9, 6, 5, 8, 7, 0, 1, 8, 1, 1, 7, 6, 6, 5,\n",
              "       5, 0, 2, 9, 5, 2, 6, 7, 8, 7, 7, 6, 7, 4, 3, 9, 9, 6, 0, 9, 2, 3,\n",
              "       1, 4, 6, 1, 4, 5, 4, 4, 7, 4, 4, 8, 9, 6, 5, 1, 0, 1, 8, 2, 9, 1,\n",
              "       4, 7, 9, 9, 2, 2, 4, 4, 4, 7, 0, 5, 5, 6, 8, 0, 2, 4, 0, 6, 3, 7,\n",
              "       5, 2, 6, 4, 2, 0, 8, 6, 5, 5, 5, 5, 2, 8, 2, 1, 7, 4, 2, 7, 0, 4,\n",
              "       0, 1, 2, 0, 1, 9, 3, 9, 2, 6, 7, 9, 3, 9, 6, 5, 4, 6, 1, 0, 8, 7,\n",
              "       4, 9, 8, 3, 0, 2, 8, 4, 4, 1, 7, 7, 3, 4, 9, 9, 8, 4, 6, 1, 1, 7,\n",
              "       1, 3, 0, 8, 1, 5, 3, 1, 0, 0, 0, 1, 6, 9, 0, 2, 7, 7, 9, 2, 1, 9,\n",
              "       8, 9, 5, 0, 1, 2, 4, 7, 7, 9, 0, 2, 5, 5, 6, 2, 9, 0, 6, 0, 6, 8,\n",
              "       2, 4, 4, 0, 5, 4, 8, 3, 8, 0, 8, 5, 8, 1, 6, 3, 9, 6, 3, 0, 1, 6,\n",
              "       3, 1, 5, 1, 5, 4, 8, 9, 2, 7, 8, 0, 3, 6, 0, 1, 4, 2, 2, 2, 1, 1,\n",
              "       7, 2, 5, 9, 1, 1, 1, 8, 5, 5, 2, 1])"
            ]
          },
          "metadata": {},
          "execution_count": 31
        }
      ]
    },
    {
      "cell_type": "code",
      "source": [
        "# Model Accuracy"
      ],
      "metadata": {
        "id": "IM29uRvm_K-r"
      },
      "execution_count": null,
      "outputs": []
    },
    {
      "cell_type": "code",
      "source": [
        "from sklearn.metrics import confusion_matrix, classification_report"
      ],
      "metadata": {
        "id": "uTRnyF-o8-EZ"
      },
      "execution_count": 32,
      "outputs": []
    },
    {
      "cell_type": "code",
      "source": [
        "confusion_matrix(Y_test, Y_pred)"
      ],
      "metadata": {
        "colab": {
          "base_uri": "https://localhost:8080/"
        },
        "id": "5fhgkWst9IBA",
        "outputId": "82fc0457-783c-4047-e383-b8549d33f876"
      },
      "execution_count": 33,
      "outputs": [
        {
          "output_type": "execute_result",
          "data": {
            "text/plain": [
              "array([[58,  0,  0,  0,  1,  0,  0,  0,  0,  0],\n",
              "       [ 0, 57,  0,  0,  0,  0,  0,  0,  0,  0],\n",
              "       [ 0,  0, 58,  0,  0,  0,  0,  0,  1,  2],\n",
              "       [ 0,  0,  0, 36,  0,  1,  0,  0,  0,  0],\n",
              "       [ 0,  0,  0,  0, 59,  0,  0,  3,  0,  0],\n",
              "       [ 0,  0,  0,  0,  0, 43,  0,  0,  0,  1],\n",
              "       [ 0,  0,  0,  0,  0,  0, 62,  0,  0,  0],\n",
              "       [ 0,  0,  0,  0,  0,  0,  0, 53,  0,  0],\n",
              "       [ 0,  4,  0,  1,  0,  1,  0,  1, 49,  0],\n",
              "       [ 0,  0,  0,  0,  0,  0,  0,  0,  0, 49]])"
            ]
          },
          "metadata": {},
          "execution_count": 33
        }
      ]
    },
    {
      "cell_type": "code",
      "source": [
        "print(classification_report(Y_test, Y_pred))"
      ],
      "metadata": {
        "colab": {
          "base_uri": "https://localhost:8080/"
        },
        "id": "fFQheOGm9SdX",
        "outputId": "0e3c06c2-d5b4-4000-905f-85f1652c08e9"
      },
      "execution_count": 34,
      "outputs": [
        {
          "output_type": "stream",
          "name": "stdout",
          "text": [
            "              precision    recall  f1-score   support\n",
            "\n",
            "           0       1.00      0.98      0.99        59\n",
            "           1       0.93      1.00      0.97        57\n",
            "           2       1.00      0.95      0.97        61\n",
            "           3       0.97      0.97      0.97        37\n",
            "           4       0.98      0.95      0.97        62\n",
            "           5       0.96      0.98      0.97        44\n",
            "           6       1.00      1.00      1.00        62\n",
            "           7       0.93      1.00      0.96        53\n",
            "           8       0.98      0.88      0.92        56\n",
            "           9       0.94      1.00      0.97        49\n",
            "\n",
            "    accuracy                           0.97       540\n",
            "   macro avg       0.97      0.97      0.97       540\n",
            "weighted avg       0.97      0.97      0.97       540\n",
            "\n"
          ]
        }
      ]
    }
  ]
}